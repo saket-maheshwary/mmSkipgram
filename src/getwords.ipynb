{
 "cells": [
  {
   "cell_type": "code",
   "execution_count": 1,
   "metadata": {
    "collapsed": false
   },
   "outputs": [],
   "source": [
    "import scipy.io as io"
   ]
  },
  {
   "cell_type": "code",
   "execution_count": 2,
   "metadata": {
    "collapsed": true
   },
   "outputs": [],
   "source": [
    "f = open('text8','r')\n",
    "f1 = open('synset_words.txt','r')"
   ]
  },
  {
   "cell_type": "code",
   "execution_count": 3,
   "metadata": {
    "collapsed": false
   },
   "outputs": [],
   "source": [
    "data = f.readlines()\n",
    "images = dict()\n",
    "for lines in f1:\n",
    "    #print lines\n",
    "    x = lines.split()\n",
    "    y = x[1:]\n",
    "    z = ' '.join(y)\n",
    "    for p in z.split(','):\n",
    "        images[p] = x[0]\n",
    "f.close()\n",
    "f1.close()"
   ]
  },
  {
   "cell_type": "code",
   "execution_count": null,
   "metadata": {
    "collapsed": false
   },
   "outputs": [],
   "source": []
  },
  {
   "cell_type": "code",
   "execution_count": 4,
   "metadata": {
    "collapsed": false
   },
   "outputs": [],
   "source": [
    "freq_data = dict()\n",
    "for lines in data:\n",
    "    for word in lines.split():\n",
    "        if word in freq_data:\n",
    "            freq_data[word] = freq_data[word] + 1;\n",
    "        else:\n",
    "            freq_data[word] = 1;\n"
   ]
  },
  {
   "cell_type": "code",
   "execution_count": 5,
   "metadata": {
    "collapsed": false
   },
   "outputs": [
    {
     "data": {
      "text/plain": [
       "692"
      ]
     },
     "execution_count": 5,
     "metadata": {},
     "output_type": "execute_result"
    }
   ],
   "source": [
    "freq_data['cat']"
   ]
  },
  {
   "cell_type": "code",
   "execution_count": 10,
   "metadata": {
    "collapsed": false
   },
   "outputs": [
    {
     "name": "stdout",
     "output_type": "stream",
     "text": [
      "church\n",
      "television\n",
      "radio\n",
      "rule\n",
      "library\n",
      "baseball\n",
      "file\n",
      "scale\n",
      "stage\n",
      "jean\n",
      "iron\n",
      "cup\n",
      "valley\n",
      "wing\n",
      "plane\n",
      "screen\n",
      "chain\n",
      "throne\n",
      "palace\n",
      "castle\n",
      "jersey\n",
      "prison\n",
      "cinema\n",
      "mouse\n",
      "missile\n",
      "orange\n",
      "hip\n",
      "basketball\n",
      "fly\n",
      "safe\n",
      "monarch\n",
      "plate\n",
      "cricket\n",
      "switch\n",
      "tank\n",
      "admiral\n",
      "suit\n",
      "ram\n",
      "drum\n",
      "vacuum\n",
      "rifle\n",
      "submarine\n",
      "pole\n",
      "pick\n",
      "lion\n",
      "shield\n",
      "organ\n",
      "bow\n",
      "brass\n",
      "microwave\n",
      "jay\n",
      "barrel\n",
      "corn\n",
      "robin\n",
      "monastery\n",
      "tiger\n",
      "cannon\n",
      "violin\n",
      "monitor\n",
      "swing\n",
      "lighter\n",
      "dam\n",
      "restaurant\n",
      "harp\n",
      "boxer\n",
      "packet\n",
      "pitcher\n",
      "drake\n",
      "ear\n",
      "hammer\n",
      "ski\n",
      "bubble\n",
      "mosque\n",
      "flute\n",
      "mask\n",
      "harmonica\n",
      "greenhouse\n",
      "slot\n",
      "printer\n",
      "pot\n",
      "chest\n",
      "cello\n",
      "dome\n",
      "altar\n",
      "volcano\n",
      "pirate\n",
      "desk\n",
      "coil\n",
      "lynx\n",
      "ant\n",
      "cliff\n",
      "jaguar\n",
      "bee\n",
      "hamster\n",
      "wool\n",
      "hook\n",
      "upright\n",
      "menu\n",
      "balloon\n",
      "modem\n"
     ]
    }
   ],
   "source": [
    "w = sorted(freq_data, key=freq_data.get, reverse=True)\n",
    "count = 1;\n",
    "sel_word = list()\n",
    "sel_id = list()\n",
    "for x in w:\n",
    "    if x in images.keys():\n",
    "        print x\n",
    "        sel_word.append(x)\n",
    "        sel_id.append(images[x])\n",
    "        count = count + 1;\n",
    "    if count == 101:\n",
    "        break;"
   ]
  },
  {
   "cell_type": "code",
   "execution_count": 7,
   "metadata": {
    "collapsed": false
   },
   "outputs": [
    {
     "name": "stdout",
     "output_type": "stream",
     "text": [
      "100\n",
      "100\n"
     ]
    }
   ],
   "source": [
    "print len(sel_id)\n",
    "print len(sel_word)\n"
   ]
  },
  {
   "cell_type": "code",
   "execution_count": 8,
   "metadata": {
    "collapsed": false
   },
   "outputs": [],
   "source": [
    "words = {'words':sel_word,'ids':sel_id,'all_wrds':w}"
   ]
  },
  {
   "cell_type": "code",
   "execution_count": 9,
   "metadata": {
    "collapsed": true
   },
   "outputs": [],
   "source": [
    "io.savemat('words.mat',words)"
   ]
  },
  {
   "cell_type": "code",
   "execution_count": null,
   "metadata": {
    "collapsed": true
   },
   "outputs": [],
   "source": []
  }
 ],
 "metadata": {
  "kernelspec": {
   "display_name": "Python 2",
   "language": "python",
   "name": "python2"
  },
  "language_info": {
   "codemirror_mode": {
    "name": "ipython",
    "version": 2
   },
   "file_extension": ".py",
   "mimetype": "text/x-python",
   "name": "python",
   "nbconvert_exporter": "python",
   "pygments_lexer": "ipython2",
   "version": "2.7.6"
  }
 },
 "nbformat": 4,
 "nbformat_minor": 0
}

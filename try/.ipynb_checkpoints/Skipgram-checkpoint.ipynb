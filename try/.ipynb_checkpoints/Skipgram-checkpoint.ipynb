{
 "metadata": {
  "language": "lua",
  "name": "",
  "signature": "sha256:4211e0a776ad706d8a7ca49c33b8716befcc94074dfa179da71e6318566ada70"
 },
 "nbformat": 3,
 "nbformat_minor": 0,
 "worksheets": [
  {
   "cells": [
    {
     "cell_type": "code",
     "collapsed": false,
     "input": [
      "require 'nn'\n",
      "-- a lookup table containing 10 tensors of size 3\n",
      "model = nn.LookupTable(10, 3) \n",
      "criterion = nn.MSECriterion()\n",
      "input = torch.Tensor(4)\n",
      "input[1] = 1; input[2] = 2; input[3] = 3; input[4] = 6;\n",
      "targets = torch.Tensor({{1, 1, 1}, {-1, -1, -1}, {1, 1, 1}, {-1, -1, -1}})\n",
      "local outputs = model:forward(input)\n",
      "local loss = criterion:forward(outputs, targets)\n",
      "local dloss_doutput = criterion:backward(outputs, targets)\n",
      "model:backward(input, dloss_doutput)\n",
      "print(outputs, loss, '\\n\\n', dloss_output, '\\n\\n', input, input[4], model:forward(input))\n"
     ],
     "language": "python",
     "metadata": {},
     "outputs": [
      {
       "ename": "...sourabh.d/torch/install/share/lua/5.1/nn/LookupTable.lua:40: attempt to index local 'input' (a nil value)\nstack traceback:\n\t...sourabh.d/torch/install/share/lua/5.1/nn/LookupTable.lua:40: in function 'makeInputContiguous'\n\t...sourabh.d/torch/install/share/lua/5.1/nn/LookupTable.lua:51: in function 'forward'\n\t[string \"require 'nn'...\"]:12: in main chunk\n\t[C]: in function 'xpcall'\n\t/home/sourabh.d/torch/install/share/lua/5.1/itorch/main.lua:179: in function </home/sourabh.d/torch/install/share/lua/5.1/itorch/main.lua:143>\n\t/home/sourabh.d/torch/install/share/lua/5.1/lzmq/poller.lua:75: in function 'poll'\n\t...sourabh.d/torch/install/share/lua/5.1/lzmq/impl/loop.lua:307: in function 'poll'\n\t...sourabh.d/torch/install/share/lua/5.1/lzmq/impl/loop.lua:325: in function 'sleep_ex'\n\t...sourabh.d/torch/install/share/lua/5.1/lzmq/impl/loop.lua:370: in function 'start'\n\t/home/sourabh.d/torch/install/share/lua/5.1/itorch/main.lua:350: in main chunk\n\t[C]: in function 'require'\n\t[string \"arg={'/home/sourabh.d/.ipython/profile_torch/...\"]:1: in main chunk",
       "evalue": "",
       "output_type": "pyerr",
       "traceback": [
        "...sourabh.d/torch/install/share/lua/5.1/nn/LookupTable.lua:40: attempt to index local 'input' (a nil value)\nstack traceback:\n\t...sourabh.d/torch/install/share/lua/5.1/nn/LookupTable.lua:40: in function 'makeInputContiguous'\n\t...sourabh.d/torch/install/share/lua/5.1/nn/LookupTable.lua:51: in function 'forward'\n\t[string \"require 'nn'...\"]:12: in main chunk\n\t[C]: in function 'xpcall'\n\t/home/sourabh.d/torch/install/share/lua/5.1/itorch/main.lua:179: in function </home/sourabh.d/torch/install/share/lua/5.1/itorch/main.lua:143>\n\t/home/sourabh.d/torch/install/share/lua/5.1/lzmq/poller.lua:75: in function 'poll'\n\t...sourabh.d/torch/install/share/lua/5.1/lzmq/impl/loop.lua:307: in function 'poll'\n\t...sourabh.d/torch/install/share/lua/5.1/lzmq/impl/loop.lua:325: in function 'sleep_ex'\n\t...sourabh.d/torch/install/share/lua/5.1/lzmq/impl/loop.lua:370: in function 'start'\n\t/home/sourabh.d/torch/install/share/lua/5.1/itorch/main.lua:350: in main chunk\n\t[C]: in function 'require'\n\t[string \"arg={'/home/sourabh.d/.ipython/profile_torch/...\"]:1: in main chunk"
       ]
      }
     ],
     "prompt_number": 24
    },
    {
     "cell_type": "code",
     "collapsed": false,
     "input": [],
     "language": "python",
     "metadata": {},
     "outputs": [
      {
       "metadata": {},
       "output_type": "pyout",
       "prompt_number": 20,
       "text": [
        "\n"
       ]
      }
     ],
     "prompt_number": 20
    },
    {
     "cell_type": "code",
     "collapsed": false,
     "input": [],
     "language": "python",
     "metadata": {},
     "outputs": []
    }
   ],
   "metadata": {}
  }
 ]
}
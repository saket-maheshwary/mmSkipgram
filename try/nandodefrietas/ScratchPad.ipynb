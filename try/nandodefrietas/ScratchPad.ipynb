{
 "metadata": {
  "language": "lua",
  "name": "",
  "signature": "sha256:3fec185832b87adcc575ed4bf93152ef427d529848ad6551ed8188bd5aec7660"
 },
 "nbformat": 3,
 "nbformat_minor": 0,
 "worksheets": [
  {
   "cells": [
    {
     "cell_type": "code",
     "collapsed": false,
     "input": [
      "output = torch.Tensor({1, 2, -3, -4})\n",
      "output = torch.gt(output, torch.Tensor(output:size()):zero()):double():cmul(output):pow(2)"
     ],
     "language": "python",
     "metadata": {},
     "outputs": [],
     "prompt_number": 4
    },
    {
     "cell_type": "code",
     "collapsed": false,
     "input": [
      "output"
     ],
     "language": "python",
     "metadata": {},
     "outputs": [
      {
       "metadata": {},
       "output_type": "pyout",
       "prompt_number": 5,
       "text": [
        " 1\n",
        " 4\n",
        " 0\n",
        " 0\n",
        "[torch.DoubleTensor of size 4]\n",
        "\n"
       ]
      }
     ],
     "prompt_number": 5
    },
    {
     "cell_type": "code",
     "collapsed": false,
     "input": [
      "output = torch.Tensor({1, 2, -3, -4})\n",
      "output = torch.gt(output, torch.Tensor(output:size()):zero()):double():cmul(output):mul(2)"
     ],
     "language": "python",
     "metadata": {},
     "outputs": [],
     "prompt_number": 12
    },
    {
     "cell_type": "code",
     "collapsed": false,
     "input": [
      "output"
     ],
     "language": "python",
     "metadata": {},
     "outputs": [
      {
       "metadata": {},
       "output_type": "pyout",
       "prompt_number": 13,
       "text": [
        " 2\n",
        " 4\n",
        " 0\n",
        " 0\n",
        "[torch.DoubleTensor of size 4]\n",
        "\n"
       ]
      }
     ],
     "prompt_number": 13
    },
    {
     "cell_type": "code",
     "collapsed": false,
     "input": [
      "X = torch.Tensor({1, 2, 3, 4})\n",
      "Y = torch.Tensor({1, 1, 1, 1})\n",
      "Z = X:add(-2, Y)\n",
      "print(Z)"
     ],
     "language": "python",
     "metadata": {},
     "outputs": [
      {
       "metadata": {},
       "output_type": "pyout",
       "prompt_number": 19,
       "text": [
        "-1\n",
        " 0\n",
        " 1\n",
        " 2\n",
        "[torch.DoubleTensor of size 4]\n",
        "\n"
       ]
      }
     ],
     "prompt_number": 19
    },
    {
     "cell_type": "code",
     "collapsed": false,
     "input": [
      "A = torch.Tensor({1, 2, 3, 4}) \n",
      "A:add(-1,A) \n",
      "print(A)"
     ],
     "language": "python",
     "metadata": {},
     "outputs": [
      {
       "metadata": {},
       "output_type": "pyout",
       "prompt_number": 27,
       "text": [
        " 0\n",
        " 0\n",
        " 0\n",
        " 0\n",
        "[torch.DoubleTensor of size 4]\n",
        "\n"
       ]
      }
     ],
     "prompt_number": 27
    },
    {
     "cell_type": "code",
     "collapsed": false,
     "input": [],
     "language": "python",
     "metadata": {},
     "outputs": []
    }
   ],
   "metadata": {}
  }
 ]
}
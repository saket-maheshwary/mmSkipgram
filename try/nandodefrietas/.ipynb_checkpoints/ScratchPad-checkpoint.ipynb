{
 "metadata": {
  "language": "lua",
  "name": "",
  "signature": "sha256:31bd7e4f759e198e1f069aabcceb2e3897463eb770551624a9547311aef45e00"
 },
 "nbformat": 3,
 "nbformat_minor": 0,
 "worksheets": [
  {
   "cells": [
    {
     "cell_type": "code",
     "collapsed": false,
     "input": [
      "output = torch.Tensor({1, 2, -3, -4})\n",
      "output = torch.gt(output, torch.Tensor(output:size()):zero()):double():cmul(output):pow(2)"
     ],
     "language": "python",
     "metadata": {},
     "outputs": [],
     "prompt_number": 4
    },
    {
     "cell_type": "code",
     "collapsed": false,
     "input": [
      "output"
     ],
     "language": "python",
     "metadata": {},
     "outputs": [
      {
       "metadata": {},
       "output_type": "pyout",
       "prompt_number": 5,
       "text": [
        " 1\n",
        " 4\n",
        " 0\n",
        " 0\n",
        "[torch.DoubleTensor of size 4]\n",
        "\n"
       ]
      }
     ],
     "prompt_number": 5
    },
    {
     "cell_type": "code",
     "collapsed": false,
     "input": [
      "output = torch.Tensor({1, 2, -3, -4})\n",
      "output = torch.gt(output, torch.Tensor(output:size()):zero()):double():mul(2)"
     ],
     "language": "python",
     "metadata": {},
     "outputs": [],
     "prompt_number": 6
    },
    {
     "cell_type": "code",
     "collapsed": false,
     "input": [
      "output"
     ],
     "language": "python",
     "metadata": {},
     "outputs": [
      {
       "metadata": {},
       "output_type": "pyout",
       "prompt_number": 7,
       "text": [
        " 2\n",
        " 2\n",
        " 0\n",
        " 0\n",
        "[torch.DoubleTensor of size 4]\n",
        "\n"
       ]
      }
     ],
     "prompt_number": 7
    },
    {
     "cell_type": "code",
     "collapsed": false,
     "input": [],
     "language": "python",
     "metadata": {},
     "outputs": []
    }
   ],
   "metadata": {}
  }
 ]
}
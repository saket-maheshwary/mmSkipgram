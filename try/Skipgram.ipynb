{
 "metadata": {
  "language": "lua",
  "name": "",
  "signature": "sha256:e9430aae7b2ff9a4ab69b255f595fad4f8204eebffc0681fd5d101d3a6c8e01a"
 },
 "nbformat": 3,
 "nbformat_minor": 0,
 "worksheets": [
  {
   "cells": [
    {
     "cell_type": "code",
     "collapsed": false,
     "input": [
      "require 'nn'\n",
      "-- a lookup table containing 10 tensors of size 3\n",
      "model = nn.LookupTable(10, 3) \n",
      "criterion = nn.MSECriterion()\n",
      "input = torch.Tensor(4)\n",
      "input[1] = 1; input[2] = 2; input[3] = 3; input[4] = 6;\n",
      "targets = torch.Tensor({{1, 1, 1}, {-1, -1, -1}, {1, 1, 1}, {-1, -1, -1}})\n",
      "local outputs = model:forward(input)\n",
      "local loss = criterion:forward(outputs, targets)\n",
      "local dloss_doutput = criterion:backward(outputs, targets)\n",
      "model:backward(input, dloss_doutput)\n",
      "print(outputs, loss, '\\n\\n', dloss_output, '\\n\\n', input, input[4], model:forward(input))\n"
     ],
     "language": "python",
     "metadata": {},
     "outputs": [
      {
       "metadata": {},
       "output_type": "pyout",
       "prompt_number": 25,
       "text": [
        "-1.2513  1.5726 -1.0316\n",
        " 0.3765 -0.1297  0.0185\n",
        "-1.5565  0.0710  0.5099\n",
        "-1.1735 -1.1177  0.9225\n",
        "[torch.DoubleTensor of size 4x3]\n",
        "\n",
        "2.0493533216587\t\n",
        "\n",
        "\tnil\t\n",
        "\n",
        "\t 1\n",
        " 2\n",
        " 3\n",
        " 6\n",
        "[torch.DoubleTensor of size 4]\n",
        "\n",
        "6\t-1.2513  1.5726 -1.0316\n",
        " 0.3765 -0.1297  0.0185\n",
        "-1.5565  0.0710  0.5099\n",
        "-1.1735 -1.1177  0.9225\n",
        "[torch.DoubleTensor of size 4x3]\n",
        "\n"
       ]
      }
     ],
     "prompt_number": 25
    },
    {
     "cell_type": "code",
     "collapsed": false,
     "input": [
      "require 'nn'\n",
      "-- a lookup table containing 10 tensors of size 3\n",
      "model = nn.LookupTable(10, 3) \n",
      "criterion = nn.MSECriterion()\n",
      "input = torch.Tensor(4,2)\n",
      "input[{{1},{1}}] = 1; \n",
      "input[{{2},{1}}] = 2; input[{{3},{1}}] = 3; input[{{4},{1}}] = 6;\n",
      "input[{{1},{2}}] = 4; input[{{2},{2}}] = 5; input[{{3},{2}}] = 6; input[{{4},{2}}] = 7;\n",
      "--print(input)\n",
      "targets = torch.Tensor({{{1, 1, 1}, {-1, -1, -1}, {1, 1, 1}, {-1, -1, -1}}, {{1, 1, 1}, {-1, -1, -1}, {1, 1, 1}, {-1, -1, -1}}})\n",
      "print(targets)\n",
      "local outputs = model:forward(input)\n",
      "local loss = criterion:forward(outputs, targets)\n",
      "local dloss_doutput = criterion:backward(outputs, targets)\n",
      "model:backward(input, dloss_doutput)\n",
      "print(outputs, loss, '\\n\\n', dloss_output, '\\n\\n', input, input[4], model:forward(input))\n"
     ],
     "language": "python",
     "metadata": {},
     "outputs": [
      {
       "metadata": {},
       "output_type": "pyout",
       "prompt_number": 34,
       "text": [
        "(1,.,.) = \n",
        "  1  1  1\n",
        " -1 -1 -1\n",
        "  1  1  1\n",
        " -1 -1 -1\n",
        "\n",
        "(2,.,.) = \n",
        "  1  1  1\n",
        " -1 -1 -1\n",
        "  1  1  1\n",
        " -1 -1 -1\n",
        "[torch.DoubleTensor of size 2x4x3]\n",
        "\n",
        "-2.9869  0.3248  1.5024\n",
        " 2.3554  0.2334 -0.3011\n",
        " 0.6094 -0.1661  0.1851\n",
        "-0.5628 -1.5207  0.4603\n",
        " 0.1437 -0.6035 -0.9467\n",
        "-0.7597 -1.1558  0.3598\n",
        "-0.7597 -1.1558  0.3598\n",
        "-0.2354  1.6024 -0.6775\n",
        "[torch.DoubleTensor of size 8x3]\n",
        "\n",
        "2.4701427152144\t\n",
        "\n",
        "\tnil\t\n",
        "\n",
        "\t 1  4\n",
        " 2  5\n",
        " 3  6\n",
        " 6  7\n",
        "[torch.DoubleTensor of size 4x2]\n",
        "\n",
        " 6\n",
        " 7\n",
        "[torch.DoubleTensor of size 2]\n",
        "\n",
        "(1,.,.) = \n",
        " -2.9869  0.3248  1.5024\n",
        "  2.3554  0.2334 -0.3011\n",
        "\n",
        "(2,.,.) = \n",
        "  0.6094 -0.1661  0.1851\n",
        " -0.5628 -1.5207  0.4603\n",
        "\n",
        "(3,.,.) = \n",
        "  0.1437 -0.6035 -0.9467\n",
        " -0.7597 -1.1558  0.3598\n",
        "\n",
        "(4,.,.) = \n",
        " -0.7597 -1.1558  0.3598\n",
        " -0.2354  1.6024 -0.6775\n",
        "[torch.DoubleTensor of size 4x2x3]\n",
        "\n"
       ]
      }
     ],
     "prompt_number": 34
    },
    {
     "cell_type": "code",
     "collapsed": false,
     "input": [
      "local x = {}\n",
      "x[1] = 2\n",
      "x[2] = 3\n",
      "print(x)"
     ],
     "language": "python",
     "metadata": {},
     "outputs": [
      {
       "metadata": {},
       "output_type": "pyout",
       "prompt_number": 37,
       "text": [
        "{\n",
        "  1 : 2\n",
        "  2 : 3\n",
        "}\n"
       ]
      }
     ],
     "prompt_number": 37
    },
    {
     "cell_type": "code",
     "collapsed": false,
     "input": [],
     "language": "python",
     "metadata": {},
     "outputs": []
    }
   ],
   "metadata": {}
  }
 ]
}